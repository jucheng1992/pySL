{
 "cells": [
  {
   "cell_type": "code",
   "execution_count": 1,
   "metadata": {
    "collapsed": false
   },
   "outputs": [],
   "source": [
    "from pySL import SL\n",
    "from scipy import stats\n",
    "from tflearn.datasets import cifar10\n",
    "from scipy.optimize import minimize\n",
    "import numpy as np\n",
    "from numpy import loadtxt"
   ]
  },
  {
   "cell_type": "markdown",
   "metadata": {},
   "source": [
    "In this demo, we use CIFAR10 data as example. First read validation/testing prediction matrix for each model. The base models are three ResNet-32 models."
   ]
  },
  {
   "cell_type": "code",
   "execution_count": 2,
   "metadata": {
    "collapsed": false
   },
   "outputs": [],
   "source": [
    "resnet32_1 = loadtxt(\"prediction/result_resnet32_cifar10_1.txt\", delimiter=\",\")\n",
    "resnet32_2 = loadtxt(\"prediction/result_resnet32_cifar10_2.txt\", delimiter=\",\")\n",
    "resnet32_3 = loadtxt(\"prediction/result_resnet32_cifar10_3.txt\", delimiter=\",\")"
   ]
  },
  {
   "cell_type": "markdown",
   "metadata": {},
   "source": [
    "First 5000 are the prediction for validation set, while last 10000 are for testing set"
   ]
  },
  {
   "cell_type": "code",
   "execution_count": 3,
   "metadata": {
    "collapsed": false
   },
   "outputs": [
    {
     "data": {
      "text/plain": [
       "(15000, 10)"
      ]
     },
     "execution_count": 3,
     "metadata": {},
     "output_type": "execute_result"
    }
   ],
   "source": [
    "resnet32_1.shape"
   ]
  },
  {
   "cell_type": "markdown",
   "metadata": {},
   "source": [
    "Read the label for validation/testing set from CIFAR10 data by interface from tflearn package"
   ]
  },
  {
   "cell_type": "code",
   "execution_count": 4,
   "metadata": {
    "collapsed": false
   },
   "outputs": [],
   "source": [
    "(X, Y), (testX, testY) = cifar10.load_data()\n",
    "valY = Y[45000:,]"
   ]
  },
  {
   "cell_type": "code",
   "execution_count": 5,
   "metadata": {
    "collapsed": false
   },
   "outputs": [],
   "source": [
    "pred = np.stack((resnet32_1, resnet32_2, resnet32_3), axis=0)"
   ]
  },
  {
   "cell_type": "code",
   "execution_count": 6,
   "metadata": {
    "collapsed": false
   },
   "outputs": [
    {
     "data": {
      "text/plain": [
       "(3, 15000, 10)"
      ]
     },
     "execution_count": 6,
     "metadata": {},
     "output_type": "execute_result"
    }
   ],
   "source": [
    "pred.shape"
   ]
  },
  {
   "cell_type": "code",
   "execution_count": 7,
   "metadata": {
    "collapsed": false,
    "scrolled": true
   },
   "outputs": [],
   "source": [
    "myY = np.hstack((valY, testY))\n",
    "mySL = SL(pred, myY)\n",
    "mySL.fit()"
   ]
  },
  {
   "cell_type": "markdown",
   "metadata": {},
   "source": [
    "Show the performance of each ensemble methods:\n",
    "\n",
    "method = 'SL' means predicting using SuperLearner weight (with or without constrain).\n",
    "\n",
    "method = 'naive' means using prediction by naive averaging all the models.\n",
    "\n",
    "method = 'bayesian' means using Bayesian Optimal Classifier"
   ]
  },
  {
   "cell_type": "code",
   "execution_count": 8,
   "metadata": {
    "collapsed": false
   },
   "outputs": [
    {
     "name": "stdout",
     "output_type": "stream",
     "text": [
      "SL 0.9367\n",
      "SL constrained 0.929\n",
      "Naive averaging (before softmax) 0.9366\n",
      "Naive averaging (after softmax) 0.9365\n",
      "Bayesian Optimal Classifier (before softmax) 0.9179\n",
      "Bayesian Optimal Classifier (after softmax) 0.9179\n",
      "Majority voting 0.9349\n"
     ]
    }
   ],
   "source": [
    "print 'SL', np.mean( np.argmax(mySL.predict(method = 'SL', constrained = False), axis = 1) == np.array(testY))\n",
    "print 'SL constrained', np.mean( np.argmax(mySL.predict(method = 'SL', constrained = True), axis = 1) == np.array(testY))\n",
    "print 'Naive averaging (before softmax)', np.mean( np.argmax(mySL.predict(method = 'naive', softmax = False), axis = 1) == np.array(testY))\n",
    "print 'Naive averaging (after softmax)',np.mean( np.argmax(mySL.predict(method = 'naive', softmax = True), axis = 1) == np.array(testY))\n",
    "print 'Bayesian Optimal Classifier (before softmax)', np.mean( np.argmax(mySL.predict(method = 'bayesian', softmax = False), axis = 1) == np.array(testY))\n",
    "print 'Bayesian Optimal Classifier (after softmax)', np.mean( np.argmax(mySL.predict(method = 'bayesian', softmax = True), axis = 1) == np.array(testY))\n",
    "print 'Majority voting', np.mean( mySL.majority() == np.array(testY))"
   ]
  }
 ],
 "metadata": {
  "kernelspec": {
   "display_name": "Python 2",
   "language": "python",
   "name": "python2"
  },
  "language_info": {
   "codemirror_mode": {
    "name": "ipython",
    "version": 2
   },
   "file_extension": ".py",
   "mimetype": "text/x-python",
   "name": "python",
   "nbconvert_exporter": "python",
   "pygments_lexer": "ipython2",
   "version": "2.7.11"
  }
 },
 "nbformat": 4,
 "nbformat_minor": 0
}
